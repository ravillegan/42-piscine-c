{
  "nbformat": 4,
  "nbformat_minor": 0,
  "metadata": {
    "colab": {
      "name": "Tochka.ipynb",
      "provenance": [],
      "collapsed_sections": [],
      "mount_file_id": "159EJ4UUWgind-ahNQnvNk4khH_m25hrL",
      "authorship_tag": "ABX9TyMcWY+RrFsIUCmyb0n2rNRk",
      "include_colab_link": true
    },
    "kernelspec": {
      "name": "python3",
      "display_name": "Python 3"
    }
  },
  "cells": [
    {
      "cell_type": "markdown",
      "metadata": {
        "id": "view-in-github",
        "colab_type": "text"
      },
      "source": [
        "<a href=\"https://colab.research.google.com/github/ravillegan/42-piscine-c/blob/master/Tochka.ipynb\" target=\"_parent\"><img src=\"https://colab.research.google.com/assets/colab-badge.svg\" alt=\"Open In Colab\"/></a>"
      ]
    },
    {
      "cell_type": "code",
      "metadata": {
        "id": "SSF2M8-gZxH3",
        "colab_type": "code",
        "colab": {}
      },
      "source": [
        "import pandas as pd\n",
        "\n",
        "df=pd.read_csv(\"/content/drive/My Drive/Копия edges.csv\")"
      ],
      "execution_count": 0,
      "outputs": []
    },
    {
      "cell_type": "code",
      "metadata": {
        "id": "B0G80Na7Z7U0",
        "colab_type": "code",
        "colab": {
          "base_uri": "https://localhost:8080/",
          "height": 402
        },
        "outputId": "6d5a5b3b-3dec-44cc-c1f5-2d167cef28ad"
      },
      "source": [
        "df"
      ],
      "execution_count": 4,
      "outputs": [
        {
          "output_type": "execute_result",
          "data": {
            "text/html": [
              "<div>\n",
              "<style scoped>\n",
              "    .dataframe tbody tr th:only-of-type {\n",
              "        vertical-align: middle;\n",
              "    }\n",
              "\n",
              "    .dataframe tbody tr th {\n",
              "        vertical-align: top;\n",
              "    }\n",
              "\n",
              "    .dataframe thead th {\n",
              "        text-align: right;\n",
              "    }\n",
              "</style>\n",
              "<table border=\"1\" class=\"dataframe\">\n",
              "  <thead>\n",
              "    <tr style=\"text-align: right;\">\n",
              "      <th></th>\n",
              "      <th>id_1</th>\n",
              "      <th>id_2</th>\n",
              "      <th>value</th>\n",
              "      <th>n_transactions</th>\n",
              "    </tr>\n",
              "  </thead>\n",
              "  <tbody>\n",
              "    <tr>\n",
              "      <th>0</th>\n",
              "      <td>878327</td>\n",
              "      <td>1133997</td>\n",
              "      <td>478035.238733</td>\n",
              "      <td>277.747437</td>\n",
              "    </tr>\n",
              "    <tr>\n",
              "      <th>1</th>\n",
              "      <td>707356</td>\n",
              "      <td>1341541</td>\n",
              "      <td>442189.669684</td>\n",
              "      <td>80.997950</td>\n",
              "    </tr>\n",
              "    <tr>\n",
              "      <th>2</th>\n",
              "      <td>169982</td>\n",
              "      <td>494074</td>\n",
              "      <td>353097.929209</td>\n",
              "      <td>287.789650</td>\n",
              "    </tr>\n",
              "    <tr>\n",
              "      <th>3</th>\n",
              "      <td>551010</td>\n",
              "      <td>979933</td>\n",
              "      <td>537749.674840</td>\n",
              "      <td>426.743337</td>\n",
              "    </tr>\n",
              "    <tr>\n",
              "      <th>4</th>\n",
              "      <td>76064</td>\n",
              "      <td>597023</td>\n",
              "      <td>418990.198382</td>\n",
              "      <td>287.789650</td>\n",
              "    </tr>\n",
              "    <tr>\n",
              "      <th>...</th>\n",
              "      <td>...</td>\n",
              "      <td>...</td>\n",
              "      <td>...</td>\n",
              "      <td>...</td>\n",
              "    </tr>\n",
              "    <tr>\n",
              "      <th>4685639</th>\n",
              "      <td>533291</td>\n",
              "      <td>1134794</td>\n",
              "      <td>275822.479741</td>\n",
              "      <td>1.000000</td>\n",
              "    </tr>\n",
              "    <tr>\n",
              "      <th>4685640</th>\n",
              "      <td>929970</td>\n",
              "      <td>1378868</td>\n",
              "      <td>507684.088750</td>\n",
              "      <td>1.000000</td>\n",
              "    </tr>\n",
              "    <tr>\n",
              "      <th>4685641</th>\n",
              "      <td>45803</td>\n",
              "      <td>829031</td>\n",
              "      <td>318785.728608</td>\n",
              "      <td>1.000000</td>\n",
              "    </tr>\n",
              "    <tr>\n",
              "      <th>4685642</th>\n",
              "      <td>1266550</td>\n",
              "      <td>1448478</td>\n",
              "      <td>494106.825312</td>\n",
              "      <td>1.000000</td>\n",
              "    </tr>\n",
              "    <tr>\n",
              "      <th>4685643</th>\n",
              "      <td>44951</td>\n",
              "      <td>995849</td>\n",
              "      <td>362288.948265</td>\n",
              "      <td>1.000000</td>\n",
              "    </tr>\n",
              "  </tbody>\n",
              "</table>\n",
              "<p>4685644 rows × 4 columns</p>\n",
              "</div>"
            ],
            "text/plain": [
              "            id_1     id_2          value  n_transactions\n",
              "0         878327  1133997  478035.238733      277.747437\n",
              "1         707356  1341541  442189.669684       80.997950\n",
              "2         169982   494074  353097.929209      287.789650\n",
              "3         551010   979933  537749.674840      426.743337\n",
              "4          76064   597023  418990.198382      287.789650\n",
              "...          ...      ...            ...             ...\n",
              "4685639   533291  1134794  275822.479741        1.000000\n",
              "4685640   929970  1378868  507684.088750        1.000000\n",
              "4685641    45803   829031  318785.728608        1.000000\n",
              "4685642  1266550  1448478  494106.825312        1.000000\n",
              "4685643    44951   995849  362288.948265        1.000000\n",
              "\n",
              "[4685644 rows x 4 columns]"
            ]
          },
          "metadata": {
            "tags": []
          },
          "execution_count": 4
        }
      ]
    },
    {
      "cell_type": "code",
      "metadata": {
        "id": "k5mOy1ESbQow",
        "colab_type": "code",
        "colab": {}
      },
      "source": [
        ""
      ],
      "execution_count": 0,
      "outputs": []
    }
  ]
}